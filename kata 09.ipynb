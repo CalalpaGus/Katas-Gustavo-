{
 "cells": [
  {
   "cell_type": "markdown",
   "metadata": {},
   "source": [
    "<h1> Kata 09 </h1>\n",
    "\n",
    "<body> Ejercicio 1 </body>"
   ]
  },
  {
   "cell_type": "code",
   "execution_count": 23,
   "metadata": {},
   "outputs": [
    {
     "data": {
      "text/plain": [
       "'Los tanques en la nave tienen tienen los siguientes porcentajes: tanque 1: 80 %; tanque 2: 75 %; tanque 3: 20 %'"
      ]
     },
     "execution_count": 23,
     "metadata": {},
     "output_type": "execute_result"
    }
   ],
   "source": [
    "def tanque_combustible(tanque1, tanque2, tanque3):\n",
    "    return f\"Los tanques en la nave tienen tienen los siguientes porcentajes: tanque 1: {tanque1} %; tanque 2: {tanque2} %; tanque 3: {tanque3} %\"\n",
    "\n",
    "tanque_combustible(80,75,20)"
   ]
  },
  {
   "cell_type": "code",
   "execution_count": 21,
   "metadata": {},
   "outputs": [
    {
     "data": {
      "text/plain": [
       "50.666666666666664"
      ]
     },
     "execution_count": 21,
     "metadata": {},
     "output_type": "execute_result"
    }
   ],
   "source": [
    "#promedio\n",
    "\n",
    "def prom (tanque1, tanque2, tanque3):\n",
    "    total= tanque3+tanque2+tanque1\n",
    "    return total/3\n",
    "\n",
    "\n",
    "prom(80,19,53)"
   ]
  },
  {
   "cell_type": "code",
   "execution_count": 26,
   "metadata": {},
   "outputs": [
    {
     "data": {
      "text/plain": [
       "'Los tanques en la nave tienen tienen los siguientes porcentajes: tanque 1: 20 %; tanque 2: 10 %; tanque 3: 50 % y el promedio es: 26.666666666666668 % de combustible'"
      ]
     },
     "execution_count": 26,
     "metadata": {},
     "output_type": "execute_result"
    }
   ],
   "source": [
    "def tanque_promedio(tanque1, tanque2, tanque3):\n",
    "   return f\"Los tanques en la nave tienen tienen los siguientes porcentajes: tanque 1: {tanque1} %; tanque 2: {tanque2} %; tanque 3: {tanque3} % y el promedio es: {prom(tanque1, tanque2 ,tanque3)} % de combustible\"\n",
    "\n",
    "tanque_promedio(20,10,50)"
   ]
  },
  {
   "cell_type": "markdown",
   "metadata": {},
   "source": [
    "<body>Ejercicio 2</bod>"
   ]
  },
  {
   "cell_type": "code",
   "execution_count": 49,
   "metadata": {},
   "outputs": [
    {
     "name": "stdout",
     "output_type": "stream",
     "text": [
      "\n",
      "    La hora de pre-lanzamiento: 60 minutos\n",
      "    El tiempo de vuelo es de: 560 minutos, \n",
      "    Son en total 620 minutos al destino: Luna\n",
      "    El combustible en el tanque 1 es: 50 litros\n",
      "    El combustible en el tanque 2 es: 70 litros\n",
      "    El combustible total es de 120 litros\n",
      "    \n"
     ]
    }
   ],
   "source": [
    "#Función para el informe\n",
    "\n",
    "def reporte (prelanzamiento,Tiempo_vuelo, tanque1, tanque2, destino):\n",
    "    \n",
    "    return f\"\"\"\n",
    "    La hora de pre-lanzamiento: {prelanzamiento} minutos\n",
    "    El tiempo de vuelo es de: {Tiempo_vuelo} minutos, \n",
    "    Son en total {prelanzamiento+Tiempo_vuelo} minutos al destino: {destino}\n",
    "    El combustible en el tanque 1 es: {tanque1} litros\n",
    "    El combustible en el tanque 2 es: {tanque2} litros\n",
    "    El combustible total es de {tanque1+tanque2} litros\n",
    "    \"\"\"\n",
    "\n",
    "\n",
    "print(reporte(60, 560, 50, 70, \"Luna\"))"
   ]
  },
  {
   "cell_type": "code",
   "execution_count": 48,
   "metadata": {},
   "outputs": [
    {
     "name": "stdout",
     "output_type": "stream",
     "text": [
      "Son en total 59 minutos al destino: luna. El combustible total es de 135 litros\n",
      "El tanque1 tiene 50 litros \n",
      "El Tanque tiene 85 litros \n"
     ]
    }
   ],
   "source": [
    "def reporte2 (destination,*minutes,**fuel_reservoirs):\n",
    "    informe= f'Son en total {sum(minutes)} minutos al destino: {destination}. El combustible total es de {sum(fuel_reservoirs.values())} litros'\n",
    "    for tanque, litros in fuel_reservoirs.items():\n",
    "        informe += f'\\nEl {tanque} tiene {litros} litros ' \n",
    "    \n",
    "    return informe\n",
    "\n",
    "print(reporte2(\"luna\", 14, 45, tanque1=50, Tanque=85))\n",
    "\n"
   ]
  }
 ],
 "metadata": {
  "interpreter": {
   "hash": "818e1cadb9f3995e56ad2b702bf17b87d649075440642a4919f1f1b50f561ba0"
  },
  "kernelspec": {
   "display_name": "Python 3.8.0 32-bit",
   "language": "python",
   "name": "python3"
  },
  "language_info": {
   "codemirror_mode": {
    "name": "ipython",
    "version": 3
   },
   "file_extension": ".py",
   "mimetype": "text/x-python",
   "name": "python",
   "nbconvert_exporter": "python",
   "pygments_lexer": "ipython3",
   "version": "3.8.0"
  },
  "orig_nbformat": 4
 },
 "nbformat": 4,
 "nbformat_minor": 2
}
