{
 "cells": [
  {
   "cell_type": "markdown",
   "metadata": {},
   "source": [
    "<h1>Kata 07</h1>"
   ]
  },
  {
   "cell_type": "code",
   "execution_count": 9,
   "metadata": {},
   "outputs": [
    {
     "name": "stdout",
     "output_type": "stream",
     "text": [
      "El planeta  1  es  Mercurio\n",
      "El planeta  2  es  Venus\n",
      "El planeta  3  es  Tierra\n",
      "El planeta  4  es  Marte\n",
      "El planeta  5  es  Jupiter\n",
      "El planeta  6  es  Saturno\n",
      "El planeta  7  es  Urano \n",
      "El planeta  8  es  Neptuno\n",
      "El planeta  9  es  Plutón\n"
     ]
    }
   ],
   "source": [
    "#Declaración de variables\n",
    "\n",
    "new_planet=''\n",
    "planets=[]\n",
    "\n",
    "while new_planet.lower() != 'done':\n",
    "    \n",
    "    if new_planet:\n",
    "        \n",
    "        planets.append(new_planet)\n",
    "    new_planet=input('Ingresa el nombre de un planeta, o escribe \"done\" para finalizar')\n",
    "\n",
    "for planet in planets:\n",
    "    print(\"El planeta \", str(planets.index(planet)+1),\" es \", planet)"
   ]
  }
 ],
 "metadata": {
  "interpreter": {
   "hash": "818e1cadb9f3995e56ad2b702bf17b87d649075440642a4919f1f1b50f561ba0"
  },
  "kernelspec": {
   "display_name": "Python 3.8.0 32-bit",
   "language": "python",
   "name": "python3"
  },
  "language_info": {
   "codemirror_mode": {
    "name": "ipython",
    "version": 3
   },
   "file_extension": ".py",
   "mimetype": "text/x-python",
   "name": "python",
   "nbconvert_exporter": "python",
   "pygments_lexer": "ipython3",
   "version": "3.8.0"
  },
  "orig_nbformat": 4
 },
 "nbformat": 4,
 "nbformat_minor": 2
}
