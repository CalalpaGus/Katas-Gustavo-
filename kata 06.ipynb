{
 "cells": [
  {
   "cell_type": "code",
   "execution_count": 4,
   "metadata": {},
   "outputs": [
    {
     "name": "stdout",
     "output_type": "stream",
     "text": [
      "El sistema solar contiene: 9; y el último planeta es: Plutón\n"
     ]
    }
   ],
   "source": [
    "#Ejercicio 1\n",
    "\n",
    "#Creamos la lista planetas y la mostramos\n",
    "planets = ['Mercurio', 'Venus', 'Tierra', 'Marte','Júpiter', 'Saturno', 'Urano','Neptuno']\n",
    "\n",
    "#Agregamos a plutón y mostramos el último elemento\n",
    "\n",
    "planets.append('Plutón')\n",
    "\n",
    "noPlanets = len(planets)\n",
    "\n",
    "print(\"El sistema solar contiene: \"+ str(noPlanets)+ \"; y el último planeta es: \" + planets[-1])\n",
    "\n"
   ]
  },
  {
   "cell_type": "code",
   "execution_count": 30,
   "metadata": {},
   "outputs": [
    {
     "name": "stdout",
     "output_type": "stream",
     "text": [
      "Los planetas más cercanos al Sol de Venus son: ['Mercurio']\n",
      "Los planetas más lejanos al Sol de Venus son: ['Tierra', 'Marte', 'Júpiter', 'Saturno', 'Urano', 'Neptuno', 'Plutón']\n"
     ]
    }
   ],
   "source": [
    "#Ejercicio 2\n",
    "#Lista de planetas\n",
    "\n",
    "planets = ['Mercurio', 'Venus', 'Tierra', 'Marte', 'Júpiter', 'Saturno', 'Urano', 'Neptuno', 'Plutón']\n",
    "\n",
    "#Solicitamos el nombre de un planeta *Pista:  input()*\n",
    "\n",
    "x = input(\"Ingresa un nombre de un planta, favor de usar la mayúscula al inicio\")\n",
    "\n",
    "y = planets.index(x)\n",
    "\n",
    "planetasCerca= planets[:y]\n",
    "planetasLejos= planets[(y+1):]\n",
    "\n",
    "print(\"Los planetas más cercanos al Sol de \" +x + \" son: \" +str(planetasCerca))\n",
    "print(\"Los planetas más lejanos al Sol de \" +x + \" son: \" +str(planetasLejos))\n"
   ]
  }
 ],
 "metadata": {
  "interpreter": {
   "hash": "818e1cadb9f3995e56ad2b702bf17b87d649075440642a4919f1f1b50f561ba0"
  },
  "kernelspec": {
   "display_name": "Python 3.8.0 32-bit",
   "language": "python",
   "name": "python3"
  },
  "language_info": {
   "codemirror_mode": {
    "name": "ipython",
    "version": 3
   },
   "file_extension": ".py",
   "mimetype": "text/x-python",
   "name": "python",
   "nbconvert_exporter": "python",
   "pygments_lexer": "ipython3",
   "version": "3.8.0"
  },
  "orig_nbformat": 4
 },
 "nbformat": 4,
 "nbformat_minor": 2
}
