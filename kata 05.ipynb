{
 "cells": [
  {
   "cell_type": "markdown",
   "metadata": {},
   "source": [
    "<h1>kata 05</h1>"
   ]
  },
  {
   "cell_type": "code",
   "execution_count": 4,
   "metadata": {},
   "outputs": [
    {
     "name": "stdout",
     "output_type": "stream",
     "text": [
      "La distancia ente jupiter y tierra son: 628949330 km\n",
      "La distancia ente jupiter y tierra son: 390577533.93 millas\n"
     ]
    }
   ],
   "source": [
    "#Ejercicio 1\n",
    "\n",
    "tierra =  149597870\n",
    "jupiter = 778547200\n",
    "\n",
    "distEntre= abs((tierra - jupiter))\n",
    "\n",
    "convert = distEntre*0.621\n",
    "\n",
    "print(\"La distancia ente jupiter y tierra son: \"+str(distEntre)+ \" km\")\n",
    "print(\"La distancia ente jupiter y tierra son: \"+str(convert)+ \" millas\")"
   ]
  },
  {
   "cell_type": "markdown",
   "metadata": {},
   "source": [
    "<h3>Planeta\tDistancia al sol</h3>\n",
    "<ol>\n",
    "<li>Mercurio    57900000</li>\n",
    "<li>Venus\t    108200000</li>\n",
    "<li>Tierra\t    149600000</li>\n",
    "<li>Marte\t    227900000</li>\n",
    "<li>Júpiter\t    78600000</li>\n",
    "<li>Saturno\t    1433500000</li>\n",
    "<li>Urano\t    2872500000</li>\n",
    "<li>Neptuno\t    4495100000</li>\n",
    "</ol>"
   ]
  },
  {
   "cell_type": "code",
   "execution_count": 6,
   "metadata": {},
   "outputs": [
    {
     "name": "stdout",
     "output_type": "stream",
     "text": [
      "La distancia ente jupiter y tierra son: 50300000 km\n",
      "La distancia ente jupiter y tierra son: 390577533.93 millas\n"
     ]
    }
   ],
   "source": [
    "#Ejercicio 2\n",
    "\n",
    "distPlanet1= int(input(\"Ingrese la distancia al sol del primer planeta\"))\n",
    "distPlanet2= int(input(\"Ingrese la distancia al sol del segundo planeta\"))\n",
    "\n",
    "distaciaEntre= abs((distPlanet1-distPlanet2))\n",
    "\n",
    "convert= distEntre*0.621\n",
    "\n",
    "print(\"La distancia ente el planeta 1 y el planeta 2 son: \"+str(distaciaEntre)+ \" km\")\n",
    "print(\"La distancia ente el planeta 1 y el planeta 2 son: \"+str(convert)+ \" millas\")"
   ]
  }
 ],
 "metadata": {
  "interpreter": {
   "hash": "818e1cadb9f3995e56ad2b702bf17b87d649075440642a4919f1f1b50f561ba0"
  },
  "kernelspec": {
   "display_name": "Python 3.8.0 32-bit",
   "language": "python",
   "name": "python3"
  },
  "language_info": {
   "codemirror_mode": {
    "name": "ipython",
    "version": 3
   },
   "file_extension": ".py",
   "mimetype": "text/x-python",
   "name": "python",
   "nbconvert_exporter": "python",
   "pygments_lexer": "ipython3",
   "version": "3.8.0"
  },
  "orig_nbformat": 4
 },
 "nbformat": 4,
 "nbformat_minor": 2
}
