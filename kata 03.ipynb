{
 "cells": [
  {
   "cell_type": "markdown",
   "metadata": {},
   "source": [
    "<H1>Kata 03 </h1>"
   ]
  },
  {
   "cell_type": "markdown",
   "metadata": {},
   "source": [
    "Un asteroide se acerca"
   ]
  },
  {
   "cell_type": "code",
   "execution_count": 8,
   "metadata": {},
   "outputs": [
    {
     "name": "stdout",
     "output_type": "stream",
     "text": [
      "Estamos a salvo\n"
     ]
    }
   ],
   "source": [
    "#Ejercicio 1\n",
    "velAsteroide = int(input(\"¿Cuál es la velocidad del asteroide?\"))\n",
    "\n",
    "if (velAsteroide > 25):\n",
    "    print(\"Cuidado, vamos a morir morir\")\n",
    "else:\n",
    "    print(\"Estamos a salvo\")\n"
   ]
  },
  {
   "cell_type": "code",
   "execution_count": 9,
   "metadata": {},
   "outputs": [
    {
     "name": "stdout",
     "output_type": "stream",
     "text": [
      "estamos a salvo\n"
     ]
    }
   ],
   "source": [
    "#Ejercicio 2\n",
    "\n",
    "asterIn = int(input(\"Si se acerca un asteroide, indique la velocidad\"))\n",
    "\n",
    "if (asterIn >= 20):\n",
    "    print(\"Busquen una luz en el cielo; estamos a salvo\")\n",
    "\n",
    "else:\n",
    "    print(\"No podremos ver nada\")"
   ]
  },
  {
   "cell_type": "code",
   "execution_count": 14,
   "metadata": {},
   "outputs": [
    {
     "name": "stdout",
     "output_type": "stream",
     "text": [
      "Vamos a morir, todos\n"
     ]
    }
   ],
   "source": [
    "#Ejercicio 3\n",
    "\n",
    "asterIn = int(input(\"¿Qué velocidad tiene el astaroide?\"))\n",
    "asterSize = int(input(\"¿Cuál es el tamaño del asteroide?\"))\n",
    "\n",
    "if (asterIn >= 20 and asterIn <25):\n",
    "    if(asterSize <= 25):\n",
    "        print(\"No se podrá observar nada\")\n",
    "    elif(asterSize > 25):\n",
    "        print(\"Se observará una luz en el cielo\")\n",
    "\n",
    "else:\n",
    "    if(asterSize <= 25):\n",
    "        print(\"No se podrá observar nada\")\n",
    "    elif(asterSize > 25):\n",
    "        print(\"Todos vamos a morir\")\n"
   ]
  }
 ],
 "metadata": {
  "interpreter": {
   "hash": "818e1cadb9f3995e56ad2b702bf17b87d649075440642a4919f1f1b50f561ba0"
  },
  "kernelspec": {
   "display_name": "Python 3.8.0 32-bit",
   "language": "python",
   "name": "python3"
  },
  "language_info": {
   "codemirror_mode": {
    "name": "ipython",
    "version": 3
   },
   "file_extension": ".py",
   "mimetype": "text/x-python",
   "name": "python",
   "nbconvert_exporter": "python",
   "pygments_lexer": "ipython3",
   "version": "3.8.0"
  },
  "orig_nbformat": 4
 },
 "nbformat": 4,
 "nbformat_minor": 2
}
