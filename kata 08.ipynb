{
 "cells": [
  {
   "cell_type": "markdown",
   "metadata": {},
   "source": [
    "<h1>Kata 08</h1>"
   ]
  },
  {
   "cell_type": "code",
   "execution_count": 27,
   "metadata": {},
   "outputs": [
    {
     "name": "stdout",
     "output_type": "stream",
     "text": [
      "El planeta Marte tiene 2 luna(s), una circunferencia polar de 6752 km\n"
     ]
    }
   ],
   "source": [
    "#Creación del diccionario de Marte\n",
    "\n",
    "planet={'nom':'Marte', 'luna':2}\n",
    "\n",
    " #Agrega la clave circunferencia con los datos proporcionados previamente\n",
    "planet['Circunferencia (km)']= {'Polar': 6752, 'equatorial':6792}\n",
    "\n",
    "#Imprimiendo el formato\n",
    "\n",
    "print(f'El planeta {planet[\"nom\"]} tiene {planet[\"luna\"]} luna(s), una circunferencia polar de {planet[\"Circunferencia (km)\"][\"Polar\"]} km')\n"
   ]
  },
  {
   "cell_type": "code",
   "execution_count": 28,
   "metadata": {},
   "outputs": [
    {
     "name": "stdout",
     "output_type": "stream",
     "text": [
      "El promedio de lunas es de:  17.833333333333332  lunas\n"
     ]
    }
   ],
   "source": [
    "#ejercicio 2\n",
    "#Planetas y lunas\n",
    "\n",
    "planet_moons = {\n",
    "    'mercury': 0,\n",
    "    'venus': 0,\n",
    "    'earth': 1,\n",
    "    'mars': 2,\n",
    "    'jupiter': 79,\n",
    "    'saturn': 82,\n",
    "    'uranus': 27,\n",
    "    'neptune': 14,\n",
    "    'pluto': 5,\n",
    "    'haumea': 2,\n",
    "    'makemake': 1,\n",
    "    'eris': 1\n",
    "}\n",
    "\n",
    "planets=len(planet_moons)\n",
    "moons = planet_moons.values()\n",
    "#print(moons, planets)\n",
    "\n",
    "totalMoons=0\n",
    "\n",
    "for value in moons:\n",
    "    totalMoons=totalMoons+value\n",
    "\n",
    "promedio = totalMoons / planets\n",
    "\n",
    "print(\"El promedio de lunas es de: \", promedio, \" lunas\")\n",
    "\n",
    "\n",
    "\n"
   ]
  }
 ],
 "metadata": {
  "interpreter": {
   "hash": "818e1cadb9f3995e56ad2b702bf17b87d649075440642a4919f1f1b50f561ba0"
  },
  "kernelspec": {
   "display_name": "Python 3.8.0 32-bit",
   "language": "python",
   "name": "python3"
  },
  "language_info": {
   "codemirror_mode": {
    "name": "ipython",
    "version": 3
   },
   "file_extension": ".py",
   "mimetype": "text/x-python",
   "name": "python",
   "nbconvert_exporter": "python",
   "pygments_lexer": "ipython3",
   "version": "3.8.0"
  },
  "orig_nbformat": 4
 },
 "nbformat": 4,
 "nbformat_minor": 2
}
